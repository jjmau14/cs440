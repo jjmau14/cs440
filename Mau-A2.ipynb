{
 "cells": [
  {
   "cell_type": "markdown",
   "metadata": {},
   "source": [
    "# Assignment 2: Iterative-Deepening Search"
   ]
  },
  {
   "cell_type": "markdown",
   "metadata": {},
   "source": [
    "Josh Mau"
   ]
  },
  {
   "cell_type": "markdown",
   "metadata": {},
   "source": [
    "## Overview"
   ]
  },
  {
   "cell_type": "markdown",
   "metadata": {},
   "source": [
    "Implement the iterative-deepening search algorithm on the '8-puzzel' and the '15-puzzel'. "
   ]
  },
  {
   "cell_type": "markdown",
   "metadata": {},
   "source": [
    "## Required Code"
   ]
  },
  {
   "cell_type": "markdown",
   "metadata": {},
   "source": [
    "In this jupyter notebook, the following functions are implemented.\n",
    "\n",
    "  * `iterativeDeepeningSearch(startState, goalState, actionsF, takeActionF, maxDepth)`\n",
    "  * `depthLimitedSearch(startState, goalState, actionsF, takeActionF, depthLimit)`\n",
    "  \n",
    "`depthLimitedSearch` is called by `iterativeDeepeningSearch` with `depthLimit`s of $0, 1, \\ldots, $ `maxDepth`. Both must return either the solution path as a list of states, or the strings `cutoff` or `failure`.  `failure` signifies that all states were searched and the goal was not found. `cutoff` signifies that the depth limit has been reached but not all states have been expanded. \n",
    "\n",
    "Each receives the arguments\n",
    "\n",
    "  * the starting state, \n",
    "  * the goal state,\n",
    "  * a function `actionsF` that is given a state and returns a list of valid actions from that state\n",
    "  * a function `takeActionF` that is given a state and an action and returns the new state that results from applying the action to the state,\n",
    "  * either a `depthLimit` for `depthLimitedSearch`, or `maxDepth` for `iterativeDeepeningSearch`.\n",
    "  \n",
    "There are two versions of `actionsF` and `takeAction` for each puzzel. Functions ending with 8p are used in the 8 puzzel problem and the 15p are used in the 15 puzzel problem. "
   ]
  },
  {
   "cell_type": "markdown",
   "metadata": {},
   "source": [
    "### 8-Puzzel Solution\n",
    "The following is the solution to solving the 8-puzzel:\n",
    "The puzzel's states are implemented as a list of integers. 0 represents the empty position. \n",
    "\n",
    "Required functions for the 8-puzzle are the following.\n",
    "\n",
    "  * `findBlank_8p(state)`: return the row and column index for the location of the blank (the 0 value).\n",
    "  * `actionsF_8p(state)`: returns a list of up to four valid actions that can be applied in `state`. Return them in the order `left`, `right`, `up`, `down`, though only if each one is a valid action.\n",
    "  * `takeActionF_8p(state, action)`: return the state that results from applying `action` in `state`.\n",
    "  * `printPath_8p(startState, goalState, path)`: print a solution path in a readable form.  You choose the format."
   ]
  },
  {
   "cell_type": "markdown",
   "metadata": {},
   "source": [
    "### 15-Puzzel Solution\n",
    "The following is the solution to solving the 15-puzzel:\n",
    "The puzzel's states are implemented as a list of integers. 0 represents the empty position. \n",
    "\n",
    "Required functions for the 15-puzzle are the following.\n",
    "\n",
    "  * `findBlank_15p(state)`: return the row and column index for the location of the blank (the 0 value).\n",
    "  * `actionsF_15p(state)`: returns a list of up to four valid actions that can be applied in `state`. Return them in the order `left`, `right`, `up`, `down`, though only if each one is a valid action.\n",
    "  * `takeActionF_15p(state, action)`: return the state that results from applying `action` in `state`.\n",
    "  * `printPath_15p(startState, goalState, path)`: print a solution path in a readable form.  You choose the format."
   ]
  },
  {
   "cell_type": "code",
   "execution_count": 1,
   "metadata": {
    "collapsed": true
   },
   "outputs": [],
   "source": [
    "def iterativeDeepeningSearch(startState, goalState, actionsF, takeActionF, maxDepth):\n",
    "\tfor depth in range(maxDepth):\n",
    "\t\tresult = depthLimitedSearch(startState, goalState, actionsF, takeActionF, depth)\n",
    "\t\tif result is 'failure':\n",
    "\t\t\treturn 'failure'\n",
    "\t\tif result is not 'cutoff':\n",
    "\t\t\tresult.insert(0, startState)     \n",
    "\t\t\treturn result\n",
    "\treturn 'cutoff'\n",
    "\t\n",
    "def depthLimitedSearch(state, goalState, actionsF, takeActionF, depthLimit):\n",
    "\tif state == goalState:\n",
    "\t\treturn []\n",
    "\tif depthLimit == 0:\n",
    "\t\treturn \"cutoff\"\n",
    "\tcutoffOccurred = False\n",
    "\tfor action in actionsF(state):\n",
    "\t\tchildState = takeActionF(state, action)\n",
    "\t\tresult = depthLimitedSearch(childState, goalState, actionsF, takeActionF, depthLimit-1)\n",
    "\t\tif result == \"cutoff\":\n",
    "\t\t\tcutoffOccurred = True\n",
    "\t\telif result != \"failure\":\n",
    "\t\t\tresult.insert(0, childState)\n",
    "\t\t\treturn result\n",
    "\tif cutoffOccurred:\n",
    "\t\treturn \"cutoff\"\n",
    "\telse:\n",
    "\t\treturn \"failure\"\n",
    "\n",
    "\n",
    "def findBlank_8p(state):\n",
    "\tloc = state.index(0)\n",
    "\tif loc >= 0 and loc <= 2:\n",
    "\t\treturn (0, loc)\n",
    "\tif loc >= 3 and loc <= 5:\n",
    "\t\treturn (1, (loc-3))\n",
    "\tif loc >= 6 and loc <= 8:\n",
    "\t\treturn (2, (loc-6))\n",
    "\t\n",
    "\t\n",
    "def actionsF_8p(state): \n",
    "\tpos = findBlank_8p(state)\n",
    "\tactions = []\n",
    "\n",
    "\tif pos[1] > 0:\n",
    "\t\tactions.append(\"left\")\n",
    "\tif pos[1] < 2:\n",
    "\t\tactions.append(\"right\")\n",
    "\tif pos[0] > 0:\n",
    "\t\tactions.append(\"up\")\n",
    "\tif pos[0] < 2:\n",
    "\t\tactions.append(\"down\")\n",
    "\t\t\n",
    "\treturn actions\n",
    "\t\n",
    "def takeActionF_8p(state, action): #return the state that results from applying action in state.\n",
    "\tindex = findBlank_8p(state)\n",
    "\tif index[0] == 0:\n",
    "\t\ti = index[1]\n",
    "\tif index[0] == 1:\n",
    "\t\ti = index[1]+3\n",
    "\tif index[0] == 2:\n",
    "\t\ti = index[1]+6\n",
    "\ts = state[:]\n",
    "\t\n",
    "\tif action is \"left\":\n",
    "\t\ts[i], s[i-1] = s[i-1], s[i]\n",
    "\t\t\n",
    "\tif action is \"right\":\n",
    "\t\ts[i], s[i+1] = s[i+1], s[i]\n",
    "\t\t\n",
    "\tif action is \"up\":\n",
    "\t\ts[i], s[i-3] = s[i-3], s[i]\n",
    "\t\t\n",
    "\tif action is \"down\":\n",
    "\t\ts[i], s[i+3] = s[i+3], s[i]\n",
    "\t\t\n",
    "\treturn s\n",
    "\t\t\t\t\t\n",
    "def printPath_8p(startState, goalState, path): #print a solution path in a readable form. You choose the format.\n",
    "\tprintState_8p(startState)\n",
    "\tprint(\"to\")\n",
    "\tprintState_8p(goalState)\n",
    "\tprint(\"is {} nodes long\".format(len(path)))\n",
    "\tprint()\n",
    "\tfor p in path:\n",
    "\t\tprintState_8p(p)\n",
    "\t\tprint()\n",
    "\n",
    "def printState_8p(state):\n",
    "\tprint(\" \".join(map(str, state[:3])).replace(\"0\", \" \"))\n",
    "\tprint(\" \".join(map(str, state[3:6])).replace(\"0\", \" \"))\n",
    "\tprint(\" \".join(map(str, state[6:9])).replace(\"0\", \" \"))\n",
    "\t\n",
    "\t\n",
    "def findBlank_15p(state):\n",
    "\tloc = state.index(0)\n",
    "\tif loc >= 0 and loc <= 3:\n",
    "\t\treturn (0, loc)\n",
    "\tif loc >= 4 and loc <= 7:\n",
    "\t\treturn (1, (loc-4))\n",
    "\tif loc >= 8 and loc <= 11:\n",
    "\t\treturn (2, (loc-8))\n",
    "\tif loc >= 12 and loc <= 15:\n",
    "\t\treturn (3, (loc-12))\n",
    "\n",
    "def actionsF_15p(state):\n",
    "\tpos = findBlank_15p(state)\n",
    "\tactions = []\n",
    "\t\n",
    "\tif pos[1] > 0:\n",
    "\t\tactions.append(\"left\")\n",
    "\tif pos[1] < 3:\n",
    "\t\tactions.append(\"right\")\n",
    "\tif pos[0] > 0:\n",
    "\t\tactions.append(\"up\")\n",
    "\tif pos[0] < 3:\n",
    "\t\tactions.append(\"down\")\n",
    "\t\t\n",
    "\treturn actions\n",
    "\n",
    "def takeActionF_15p(state, action):\n",
    "\tindex = findBlank_15p(state)\n",
    "\tif index[0] == 0:\n",
    "\t\ti = index[1]\n",
    "\tif index[0] == 1:\n",
    "\t\ti = index[1]+4\n",
    "\tif index[0] == 2:\n",
    "\t\ti = index[1]+8\n",
    "\tif index[0] == 3:\n",
    "\t\ti = index[1]+12\n",
    "\ts = state[:]\n",
    "\t\n",
    "\tif action is \"left\":\n",
    "\t\ts[i], s[i-1] = s[i-1], s[i]\n",
    "\t\t\n",
    "\tif action is \"right\":\n",
    "\t\ts[i], s[i+1] = s[i+1], s[i]\n",
    "\t\t\n",
    "\tif action is \"up\":\n",
    "\t\ts[i], s[i-4] = s[i-4], s[i]\n",
    "\t\t\n",
    "\tif action is \"down\":\n",
    "\t\ts[i], s[i+4] = s[i+4], s[i]\n",
    "\t\t\n",
    "\treturn s\n",
    "\t\n",
    "def printPath_15p(startState, goalState, path): #print a solution path in a readable form. You choose the format.\n",
    "\tprintState_15p(startState)\n",
    "\tprint(\"to\")\n",
    "\tprintState_15p(goalState)\n",
    "\tprint(\"is {} nodes long\".format(len(path)))\n",
    "\tprint()\n",
    "\tfor p in path:\n",
    "\t\tprintState_15p(p)\n",
    "\t\tprint()\n",
    "\t\t\n",
    "def printState_15p(state):\n",
    "\tprint('\\t'.join(map(str, state[:4])))\n",
    "\tprint('\\t'.join(map(str, state[4:8])))\n",
    "\tprint('\\t'.join(map(str, state[8:12])))\n",
    "\tprint('\\t'.join(map(str, state[12:16])))"
   ]
  },
  {
   "cell_type": "markdown",
   "metadata": {},
   "source": [
    "## 8-Puzzel Example"
   ]
  },
  {
   "cell_type": "code",
   "execution_count": 2,
   "metadata": {
    "collapsed": true
   },
   "outputs": [],
   "source": [
    "startState = [1, 0, 3, 4, 2, 5, 6, 7, 8]"
   ]
  },
  {
   "cell_type": "code",
   "execution_count": 3,
   "metadata": {},
   "outputs": [
    {
     "name": "stdout",
     "output_type": "stream",
     "text": [
      "1   3\n",
      "4 2 5\n",
      "6 7 8\n"
     ]
    }
   ],
   "source": [
    "printState_8p(startState)"
   ]
  },
  {
   "cell_type": "code",
   "execution_count": 4,
   "metadata": {},
   "outputs": [
    {
     "data": {
      "text/plain": [
       "(0, 1)"
      ]
     },
     "execution_count": 4,
     "metadata": {},
     "output_type": "execute_result"
    }
   ],
   "source": [
    "findBlank_8p(startState)"
   ]
  },
  {
   "cell_type": "code",
   "execution_count": 5,
   "metadata": {},
   "outputs": [
    {
     "data": {
      "text/plain": [
       "['left', 'right', 'down']"
      ]
     },
     "execution_count": 5,
     "metadata": {},
     "output_type": "execute_result"
    }
   ],
   "source": [
    "actionsF_8p(startState)"
   ]
  },
  {
   "cell_type": "code",
   "execution_count": 6,
   "metadata": {},
   "outputs": [
    {
     "data": {
      "text/plain": [
       "[1, 2, 3, 4, 0, 5, 6, 7, 8]"
      ]
     },
     "execution_count": 6,
     "metadata": {},
     "output_type": "execute_result"
    }
   ],
   "source": [
    "takeActionF_8p(startState, 'down')"
   ]
  },
  {
   "cell_type": "code",
   "execution_count": 7,
   "metadata": {},
   "outputs": [
    {
     "name": "stdout",
     "output_type": "stream",
     "text": [
      "1 2 3\n",
      "4   5\n",
      "6 7 8\n"
     ]
    }
   ],
   "source": [
    "printState_8p(takeActionF_8p(startState, 'down'))"
   ]
  },
  {
   "cell_type": "code",
   "execution_count": 8,
   "metadata": {
    "collapsed": true
   },
   "outputs": [],
   "source": [
    "goalState = takeActionF_8p(startState, 'down')"
   ]
  },
  {
   "cell_type": "code",
   "execution_count": 9,
   "metadata": {
    "collapsed": true
   },
   "outputs": [],
   "source": [
    "newState = takeActionF_8p(startState, 'down')"
   ]
  },
  {
   "cell_type": "code",
   "execution_count": 10,
   "metadata": {},
   "outputs": [
    {
     "data": {
      "text/plain": [
       "True"
      ]
     },
     "execution_count": 10,
     "metadata": {},
     "output_type": "execute_result"
    }
   ],
   "source": [
    "newState == goalState"
   ]
  },
  {
   "cell_type": "code",
   "execution_count": 11,
   "metadata": {},
   "outputs": [
    {
     "data": {
      "text/plain": [
       "[1, 0, 3, 4, 2, 5, 6, 7, 8]"
      ]
     },
     "execution_count": 11,
     "metadata": {},
     "output_type": "execute_result"
    }
   ],
   "source": [
    "startState"
   ]
  },
  {
   "cell_type": "code",
   "execution_count": 12,
   "metadata": {
    "scrolled": true
   },
   "outputs": [
    {
     "data": {
      "text/plain": [
       "[[0, 1, 3, 4, 2, 5, 6, 7, 8],\n",
       " [1, 0, 3, 4, 2, 5, 6, 7, 8],\n",
       " [1, 2, 3, 4, 0, 5, 6, 7, 8]]"
      ]
     },
     "execution_count": 12,
     "metadata": {},
     "output_type": "execute_result"
    }
   ],
   "source": [
    "path = depthLimitedSearch(startState, goalState, actionsF_8p, takeActionF_8p, 3)\n",
    "path"
   ]
  },
  {
   "cell_type": "markdown",
   "metadata": {},
   "source": [
    "Notice that `depthLimitedSearch` result is missing the start state.  This is inserted by `iterativeDeepeningSearch`.\n",
    "\n",
    "But, when we try `iterativeDeepeningSearch` to do the same search, it finds a shorter path!"
   ]
  },
  {
   "cell_type": "code",
   "execution_count": 13,
   "metadata": {
    "scrolled": true
   },
   "outputs": [
    {
     "data": {
      "text/plain": [
       "[[1, 0, 3, 4, 2, 5, 6, 7, 8], [1, 2, 3, 4, 0, 5, 6, 7, 8]]"
      ]
     },
     "execution_count": 13,
     "metadata": {},
     "output_type": "execute_result"
    }
   ],
   "source": [
    "path = iterativeDeepeningSearch(startState, goalState, actionsF_8p, takeActionF_8p, 3)\n",
    "path"
   ]
  },
  {
   "cell_type": "markdown",
   "metadata": {},
   "source": [
    "Also notice that the successor states are lists, not tuples.  This is okay, because the search functions for this assignment do not"
   ]
  },
  {
   "cell_type": "code",
   "execution_count": 14,
   "metadata": {},
   "outputs": [
    {
     "data": {
      "text/plain": [
       "'cutoff'"
      ]
     },
     "execution_count": 14,
     "metadata": {},
     "output_type": "execute_result"
    }
   ],
   "source": [
    "startState = [4, 7, 2, 1, 6, 5, 0, 3, 8]\n",
    "path = iterativeDeepeningSearch(startState, goalState, actionsF_8p, takeActionF_8p, 3)\n",
    "path"
   ]
  },
  {
   "cell_type": "code",
   "execution_count": 15,
   "metadata": {},
   "outputs": [
    {
     "data": {
      "text/plain": [
       "'cutoff'"
      ]
     },
     "execution_count": 15,
     "metadata": {},
     "output_type": "execute_result"
    }
   ],
   "source": [
    "startState = [4, 7, 2, 1, 6, 5, 0, 3, 8]\n",
    "path = iterativeDeepeningSearch(startState, goalState, actionsF_8p, takeActionF_8p, 5)\n",
    "path"
   ]
  },
  {
   "cell_type": "markdown",
   "metadata": {},
   "source": [
    "Humm...maybe we can't reach the goal state from this state.  We need a way to randomly generate a valid start state."
   ]
  },
  {
   "cell_type": "code",
   "execution_count": 16,
   "metadata": {
    "collapsed": true
   },
   "outputs": [],
   "source": [
    "import random"
   ]
  },
  {
   "cell_type": "code",
   "execution_count": 17,
   "metadata": {},
   "outputs": [
    {
     "data": {
      "text/plain": [
       "'right'"
      ]
     },
     "execution_count": 17,
     "metadata": {},
     "output_type": "execute_result"
    }
   ],
   "source": [
    "random.choice(['left', 'right'])"
   ]
  },
  {
   "cell_type": "code",
   "execution_count": 18,
   "metadata": {
    "collapsed": true
   },
   "outputs": [],
   "source": [
    "def randomStartState(goalState, actionsF, takeActionF, nSteps):\n",
    "    state = goalState\n",
    "    for i in range(nSteps):\n",
    "        state = takeActionF(state, random.choice(actionsF(state)))\n",
    "    return state"
   ]
  },
  {
   "cell_type": "code",
   "execution_count": 19,
   "metadata": {},
   "outputs": [
    {
     "data": {
      "text/plain": [
       "[0, 2, 3, 1, 4, 5, 6, 7, 8]"
      ]
     },
     "execution_count": 19,
     "metadata": {},
     "output_type": "execute_result"
    }
   ],
   "source": [
    "startState = randomStartState(goalState, actionsF_8p, takeActionF_8p, 10)\n",
    "startState"
   ]
  },
  {
   "cell_type": "code",
   "execution_count": 20,
   "metadata": {},
   "outputs": [
    {
     "data": {
      "text/plain": [
       "[[0, 2, 3, 1, 4, 5, 6, 7, 8],\n",
       " [1, 2, 3, 0, 4, 5, 6, 7, 8],\n",
       " [1, 2, 3, 4, 0, 5, 6, 7, 8]]"
      ]
     },
     "execution_count": 20,
     "metadata": {},
     "output_type": "execute_result"
    }
   ],
   "source": [
    "path = iterativeDeepeningSearch(startState, goalState, actionsF_8p, takeActionF_8p, 20)\n",
    "path"
   ]
  },
  {
   "cell_type": "markdown",
   "metadata": {},
   "source": [
    "Let's print out the state sequence in a readable form."
   ]
  },
  {
   "cell_type": "code",
   "execution_count": 21,
   "metadata": {},
   "outputs": [
    {
     "name": "stdout",
     "output_type": "stream",
     "text": [
      "  2 3\n",
      "1 4 5\n",
      "6 7 8\n",
      "\n",
      "1 2 3\n",
      "  4 5\n",
      "6 7 8\n",
      "\n",
      "1 2 3\n",
      "4   5\n",
      "6 7 8\n",
      "\n"
     ]
    }
   ],
   "source": [
    "for p in path:\n",
    "    printState_8p(p)\n",
    "    print()"
   ]
  },
  {
   "cell_type": "markdown",
   "metadata": {},
   "source": [
    "Here is one way to format the search problem and solution in a readable form."
   ]
  },
  {
   "cell_type": "code",
   "execution_count": 22,
   "metadata": {},
   "outputs": [
    {
     "name": "stdout",
     "output_type": "stream",
     "text": [
      "  2 3\n",
      "1 4 5\n",
      "6 7 8\n",
      "to\n",
      "1 2 3\n",
      "4   5\n",
      "6 7 8\n",
      "is 3 nodes long\n",
      "\n",
      "  2 3\n",
      "1 4 5\n",
      "6 7 8\n",
      "\n",
      "1 2 3\n",
      "  4 5\n",
      "6 7 8\n",
      "\n",
      "1 2 3\n",
      "4   5\n",
      "6 7 8\n",
      "\n"
     ]
    }
   ],
   "source": [
    "printPath_8p(startState, goalState, path)"
   ]
  },
  {
   "cell_type": "code",
   "execution_count": 23,
   "metadata": {},
   "outputs": [
    {
     "name": "stdout",
     "output_type": "stream",
     "text": [
      "\n",
      "Searching this graph:\n",
      " {'a': ['b', 'z', 'd'], 'b': ['a'], 'e': ['z'], 'd': ['y'], 'y': ['z']}\n",
      "\n",
      "Looking for path from a to y with max depth of 1.\n",
      " 5/ 5 points. Your search correctly returned cutoff\n",
      "\n",
      "Looking for path from a to y with max depth of 5.\n",
      "10/10 points. Your search correctly returned ['a', 'z']\n",
      "\n",
      "Testing findBlank_8p([1, 2, 3, 4, 5, 6, 7, 0, 8])\n",
      " 5/ 5 points. Your findBlank_8p correctly returned 2 1\n",
      "\n",
      "Testing actionsF_8p([1, 2, 3, 4, 5, 6, 7, 0, 8])\n",
      "10/10 points. Your actionsF_8p correctly returned ['left', 'right', 'up']\n",
      "\n",
      "Testing takeActionF_8p([1, 2, 3, 4, 5, 6, 7, 0, 8],up)\n",
      "10/10 points. Your takeActionsF_8p correctly returned [1, 2, 3, 4, 0, 6, 7, 5, 8]\n",
      "\n",
      "Testing iterativeDeepeningSearch([1, 2, 3, 4, 5, 6, 7, 0, 8],[0, 2, 3, 1, 4,  6, 7, 5, 8], actionsF_8p, takeActionF_8p, 5)\n",
      "20/20 points. Your search correctly returned [[1, 2, 3, 4, 5, 6, 7, 0, 8], [1, 2, 3, 4, 0, 6, 7, 5, 8], [1, 2, 3, 0, 4, 6, 7, 5, 8], [0, 2, 3, 1, 4, 6, 7, 5, 8]]\n",
      "\n",
      "Testing iterativeDeepeningSearch([5, 2, 8, 0, 1, 4, 3, 7, 6], [0, 2, 3, 1, 4,  6, 7, 5, 8], actionsF_8p, takeActionF_8p, 10)\n",
      "20/20 points. Your search correctly returned cutoff\n",
      "\n",
      "A2 Grade is 80/80\n",
      "Up to 20 more points will be given based on the qualty of your descriptions of the method and the results.\n"
     ]
    }
   ],
   "source": [
    "%run -i A2grader.py"
   ]
  },
  {
   "cell_type": "markdown",
   "metadata": {},
   "source": [
    "## 15-Puzzel Example"
   ]
  },
  {
   "cell_type": "code",
   "execution_count": 24,
   "metadata": {
    "collapsed": true
   },
   "outputs": [],
   "source": [
    "startState15 = [1,2,3,4,5,6,7,8,9,10,11,12,13,14,15,0]"
   ]
  },
  {
   "cell_type": "code",
   "execution_count": 25,
   "metadata": {
    "collapsed": true
   },
   "outputs": [],
   "source": [
    "goalState15 = [1,2,3,4,6,7,0,8,5,10,11,12,9,13,14,15]"
   ]
  },
  {
   "cell_type": "code",
   "execution_count": 26,
   "metadata": {},
   "outputs": [
    {
     "name": "stdout",
     "output_type": "stream",
     "text": [
      "['left', 'up']\n"
     ]
    }
   ],
   "source": [
    "print(actionsF_15p(startState15))"
   ]
  },
  {
   "cell_type": "code",
   "execution_count": 27,
   "metadata": {},
   "outputs": [
    {
     "data": {
      "text/plain": [
       "[[1, 2, 3, 4, 5, 6, 7, 8, 9, 10, 11, 12, 13, 14, 15, 0],\n",
       " [1, 2, 3, 4, 5, 6, 7, 8, 9, 10, 11, 12, 13, 14, 0, 15],\n",
       " [1, 2, 3, 4, 5, 6, 7, 8, 9, 10, 11, 12, 13, 0, 14, 15],\n",
       " [1, 2, 3, 4, 5, 6, 7, 8, 9, 10, 11, 12, 0, 13, 14, 15],\n",
       " [1, 2, 3, 4, 5, 6, 7, 8, 0, 10, 11, 12, 9, 13, 14, 15],\n",
       " [1, 2, 3, 4, 0, 6, 7, 8, 5, 10, 11, 12, 9, 13, 14, 15],\n",
       " [1, 2, 3, 4, 6, 0, 7, 8, 5, 10, 11, 12, 9, 13, 14, 15],\n",
       " [1, 2, 3, 4, 6, 7, 0, 8, 5, 10, 11, 12, 9, 13, 14, 15]]"
      ]
     },
     "execution_count": 27,
     "metadata": {},
     "output_type": "execute_result"
    }
   ],
   "source": [
    "path = iterativeDeepeningSearch(startState15, goalState15, actionsF_15p, takeActionF_15p, 20)\n",
    "path"
   ]
  },
  {
   "cell_type": "markdown",
   "metadata": {},
   "source": [
    "#### Note: 0 was not replaced with an empty character in this example"
   ]
  },
  {
   "cell_type": "code",
   "execution_count": 28,
   "metadata": {},
   "outputs": [
    {
     "name": "stdout",
     "output_type": "stream",
     "text": [
      "1\t2\t3\t4\n",
      "5\t6\t7\t8\n",
      "9\t10\t11\t12\n",
      "13\t14\t15\t0\n",
      "to\n",
      "1\t2\t3\t4\n",
      "6\t7\t0\t8\n",
      "5\t10\t11\t12\n",
      "9\t13\t14\t15\n",
      "is 8 nodes long\n",
      "\n",
      "1\t2\t3\t4\n",
      "5\t6\t7\t8\n",
      "9\t10\t11\t12\n",
      "13\t14\t15\t0\n",
      "\n",
      "1\t2\t3\t4\n",
      "5\t6\t7\t8\n",
      "9\t10\t11\t12\n",
      "13\t14\t0\t15\n",
      "\n",
      "1\t2\t3\t4\n",
      "5\t6\t7\t8\n",
      "9\t10\t11\t12\n",
      "13\t0\t14\t15\n",
      "\n",
      "1\t2\t3\t4\n",
      "5\t6\t7\t8\n",
      "9\t10\t11\t12\n",
      "0\t13\t14\t15\n",
      "\n",
      "1\t2\t3\t4\n",
      "5\t6\t7\t8\n",
      "0\t10\t11\t12\n",
      "9\t13\t14\t15\n",
      "\n",
      "1\t2\t3\t4\n",
      "0\t6\t7\t8\n",
      "5\t10\t11\t12\n",
      "9\t13\t14\t15\n",
      "\n",
      "1\t2\t3\t4\n",
      "6\t0\t7\t8\n",
      "5\t10\t11\t12\n",
      "9\t13\t14\t15\n",
      "\n",
      "1\t2\t3\t4\n",
      "6\t7\t0\t8\n",
      "5\t10\t11\t12\n",
      "9\t13\t14\t15\n",
      "\n"
     ]
    }
   ],
   "source": [
    "printPath_15p(startState15, goalState15, path)"
   ]
  },
  {
   "cell_type": "code",
   "execution_count": null,
   "metadata": {
    "collapsed": true
   },
   "outputs": [],
   "source": []
  }
 ],
 "metadata": {
  "anaconda-cloud": {},
  "kernelspec": {
   "display_name": "Python 3",
   "language": "python",
   "name": "python3"
  },
  "language_info": {
   "codemirror_mode": {
    "name": "ipython",
    "version": 3
   },
   "file_extension": ".py",
   "mimetype": "text/x-python",
   "name": "python",
   "nbconvert_exporter": "python",
   "pygments_lexer": "ipython3",
   "version": "3.6.1"
  }
 },
 "nbformat": 4,
 "nbformat_minor": 1
}
